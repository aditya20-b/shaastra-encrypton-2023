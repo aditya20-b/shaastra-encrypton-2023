{
 "cells": [
  {
   "cell_type": "code",
   "execution_count": 22,
   "metadata": {},
   "outputs": [],
   "source": [
    "import math\n",
    "import pandas as pd\n",
    "from sklearn.preprocessing import MinMaxScaler\n",
    "from sklearn.model_selection import train_test_split\n",
    "from sklearn.tree import DecisionTreeClassifier\n",
    "from sklearn.metrics import accuracy_score, classification_report"
   ]
  },
  {
   "cell_type": "code",
   "execution_count": 23,
   "metadata": {},
   "outputs": [],
   "source": [
    "PRINCIPAL: int = 1_000_000\n",
    "Z_FACTOR: int = 5\n",
    "K_VALUE: float = 0.8\n",
    "EMISSION_RISK_INDEX: float = 0.05\n",
    "ENVIRONMENTAL_FEE_INDEX: int = 0\n",
    "THRESHOLD: float = 0.75\n",
    "PATH = \"../datasets/companies_final.csv\"\n",
    "\n",
    "INDUSTRY_CODES = {\n",
    "    \"information technology and services\": 0,\n",
    "    \"military\": 1,\n",
    "    \"accounting\": 2,\n",
    "    \"retail\": 3,\n",
    "    \"computer software\": 4,\n",
    "    \"telecommunications\": 5,\n",
    "    \"defense & space\": 6,\n",
    "    \"financial services\": 7,\n",
    "    \"management consulting\": 8,\n",
    "    \"banking\": 9,\n",
    "}"
   ]
  },
  {
   "cell_type": "code",
   "execution_count": 24,
   "metadata": {},
   "outputs": [],
   "source": [
    "def preprocess_data(file_path):\n",
    "    return pd.read_csv(file_path).iloc[:2000]"
   ]
  },
  {
   "cell_type": "code",
   "execution_count": 25,
   "metadata": {},
   "outputs": [],
   "source": [
    "def calculate_investment_risk(row: pd.Series, principal: int, k_value: float, data: pd.DataFrame) -> float:\n",
    "    beta: float = 1.0\n",
    "    principal_investment: int = principal\n",
    "    z_factor: int = Z_FACTOR\n",
    "    emission_factor: float = k_value * row[\"emissions\"] + 1\n",
    "    risk_investment: float = EMISSION_RISK_INDEX * principal\n",
    "    environmental_fee: int = ENVIRONMENTAL_FEE_INDEX\n",
    "    industry_count: int = len(data[data[\"industry\"] == row[\"industry\"]])\n",
    "    disaster_risk_score: int = {\"Low\": 0, \"Medium\": 1, \"High\": 2}.get(row[\"disaster_risk\"], 0)\n",
    "\n",
    "    importance_factor: float = row[\"importance\"] if row[\"importance\"] != 0 else 0.001\n",
    "    denominator: float = max(emission_factor * importance_factor * math.log(abs(emission_factor * importance_factor)), 1)\n",
    "\n",
    "    numerator: float = principal_investment * z_factor\n",
    "    investment_vs_capital: float = math.log(industry_count / principal_investment) if industry_count > principal_investment else 0\n",
    "\n",
    "    investment_risk: float = (\n",
    "        beta / principal_investment * ((numerator / denominator) - risk_investment * emission_factor)\n",
    "        - environmental_fee\n",
    "        + investment_vs_capital\n",
    "        - (disaster_risk_score * 1000)\n",
    "    )\n",
    "    return investment_risk"
   ]
  },
  {
   "cell_type": "code",
   "execution_count": 26,
   "metadata": {},
   "outputs": [],
   "source": [
    "# Preprocess data\n",
    "data = preprocess_data(PATH)\n",
    "\n",
    "# Calculate the investment risk for each data point and scale em\n",
    "data[\"X\"] = data.apply(calculate_investment_risk, axis=1, args=(PRINCIPAL, K_VALUE, data))\n",
    "scaler = MinMaxScaler(feature_range=(0, 1))\n",
    "data[\"X\"] = scaler.fit_transform(data[[\"X\"]])\n",
    "\n",
    "# We're tryin to remove the outliers here using IQR\n",
    "q1 = data[\"X\"].quantile(1 - THRESHOLD)\n",
    "q3 = data[\"X\"].quantile(THRESHOLD)\n",
    "iqr = q3 - q1\n",
    "data = data[(data[\"X\"] >= q1 - 1.5 * iqr) & (data[\"X\"] <= q3 + 1.5 * iqr)]"
   ]
  },
  {
   "cell_type": "code",
   "execution_count": 27,
   "metadata": {},
   "outputs": [],
   "source": [
    "data[\"industry\"] = data[\"industry\"].map(INDUSTRY_CODES)\n",
    "data[\"disaster_risk\"] = data[\"disaster_risk\"].map({\"Low\": 1, \"Medium\": 2, \"High\": 3})\n",
    "\n",
    "data[\"Invest\"] = (data[\"X\"] > THRESHOLD).astype(int)\n",
    "X = data.drop([\"Invest\", \"name\", \"Unnamed: 0\", \"locality\", \"country\", \"X\"], axis=1)\n",
    "Y = data[\"Invest\"]\n"
   ]
  },
  {
   "cell_type": "code",
   "execution_count": 28,
   "metadata": {},
   "outputs": [
    {
     "data": {
      "text/html": [
       "<style>#sk-container-id-1 {color: black;}#sk-container-id-1 pre{padding: 0;}#sk-container-id-1 div.sk-toggleable {background-color: white;}#sk-container-id-1 label.sk-toggleable__label {cursor: pointer;display: block;width: 100%;margin-bottom: 0;padding: 0.3em;box-sizing: border-box;text-align: center;}#sk-container-id-1 label.sk-toggleable__label-arrow:before {content: \"▸\";float: left;margin-right: 0.25em;color: #696969;}#sk-container-id-1 label.sk-toggleable__label-arrow:hover:before {color: black;}#sk-container-id-1 div.sk-estimator:hover label.sk-toggleable__label-arrow:before {color: black;}#sk-container-id-1 div.sk-toggleable__content {max-height: 0;max-width: 0;overflow: hidden;text-align: left;background-color: #f0f8ff;}#sk-container-id-1 div.sk-toggleable__content pre {margin: 0.2em;color: black;border-radius: 0.25em;background-color: #f0f8ff;}#sk-container-id-1 input.sk-toggleable__control:checked~div.sk-toggleable__content {max-height: 200px;max-width: 100%;overflow: auto;}#sk-container-id-1 input.sk-toggleable__control:checked~label.sk-toggleable__label-arrow:before {content: \"▾\";}#sk-container-id-1 div.sk-estimator input.sk-toggleable__control:checked~label.sk-toggleable__label {background-color: #d4ebff;}#sk-container-id-1 div.sk-label input.sk-toggleable__control:checked~label.sk-toggleable__label {background-color: #d4ebff;}#sk-container-id-1 input.sk-hidden--visually {border: 0;clip: rect(1px 1px 1px 1px);clip: rect(1px, 1px, 1px, 1px);height: 1px;margin: -1px;overflow: hidden;padding: 0;position: absolute;width: 1px;}#sk-container-id-1 div.sk-estimator {font-family: monospace;background-color: #f0f8ff;border: 1px dotted black;border-radius: 0.25em;box-sizing: border-box;margin-bottom: 0.5em;}#sk-container-id-1 div.sk-estimator:hover {background-color: #d4ebff;}#sk-container-id-1 div.sk-parallel-item::after {content: \"\";width: 100%;border-bottom: 1px solid gray;flex-grow: 1;}#sk-container-id-1 div.sk-label:hover label.sk-toggleable__label {background-color: #d4ebff;}#sk-container-id-1 div.sk-serial::before {content: \"\";position: absolute;border-left: 1px solid gray;box-sizing: border-box;top: 0;bottom: 0;left: 50%;z-index: 0;}#sk-container-id-1 div.sk-serial {display: flex;flex-direction: column;align-items: center;background-color: white;padding-right: 0.2em;padding-left: 0.2em;position: relative;}#sk-container-id-1 div.sk-item {position: relative;z-index: 1;}#sk-container-id-1 div.sk-parallel {display: flex;align-items: stretch;justify-content: center;background-color: white;position: relative;}#sk-container-id-1 div.sk-item::before, #sk-container-id-1 div.sk-parallel-item::before {content: \"\";position: absolute;border-left: 1px solid gray;box-sizing: border-box;top: 0;bottom: 0;left: 50%;z-index: -1;}#sk-container-id-1 div.sk-parallel-item {display: flex;flex-direction: column;z-index: 1;position: relative;background-color: white;}#sk-container-id-1 div.sk-parallel-item:first-child::after {align-self: flex-end;width: 50%;}#sk-container-id-1 div.sk-parallel-item:last-child::after {align-self: flex-start;width: 50%;}#sk-container-id-1 div.sk-parallel-item:only-child::after {width: 0;}#sk-container-id-1 div.sk-dashed-wrapped {border: 1px dashed gray;margin: 0 0.4em 0.5em 0.4em;box-sizing: border-box;padding-bottom: 0.4em;background-color: white;}#sk-container-id-1 div.sk-label label {font-family: monospace;font-weight: bold;display: inline-block;line-height: 1.2em;}#sk-container-id-1 div.sk-label-container {text-align: center;}#sk-container-id-1 div.sk-container {/* jupyter's `normalize.less` sets `[hidden] { display: none; }` but bootstrap.min.css set `[hidden] { display: none !important; }` so we also need the `!important` here to be able to override the default hidden behavior on the sphinx rendered scikit-learn.org. See: https://github.com/scikit-learn/scikit-learn/issues/21755 */display: inline-block !important;position: relative;}#sk-container-id-1 div.sk-text-repr-fallback {display: none;}</style><div id=\"sk-container-id-1\" class=\"sk-top-container\"><div class=\"sk-text-repr-fallback\"><pre>DecisionTreeClassifier()</pre><b>In a Jupyter environment, please rerun this cell to show the HTML representation or trust the notebook. <br />On GitHub, the HTML representation is unable to render, please try loading this page with nbviewer.org.</b></div><div class=\"sk-container\" hidden><div class=\"sk-item\"><div class=\"sk-estimator sk-toggleable\"><input class=\"sk-toggleable__control sk-hidden--visually\" id=\"sk-estimator-id-1\" type=\"checkbox\" checked><label for=\"sk-estimator-id-1\" class=\"sk-toggleable__label sk-toggleable__label-arrow\">DecisionTreeClassifier</label><div class=\"sk-toggleable__content\"><pre>DecisionTreeClassifier()</pre></div></div></div></div></div>"
      ],
      "text/plain": [
       "DecisionTreeClassifier()"
      ]
     },
     "execution_count": 28,
     "metadata": {},
     "output_type": "execute_result"
    }
   ],
   "source": [
    "X_train, X_test, y_train, y_test = train_test_split(\n",
    "    X, Y, test_size=0.3, random_state=42\n",
    ")\n",
    "\n",
    "dt_classifier = DecisionTreeClassifier()\n",
    "dt_classifier.fit(X_train, y_train)"
   ]
  },
  {
   "cell_type": "code",
   "execution_count": 29,
   "metadata": {},
   "outputs": [
    {
     "name": "stdout",
     "output_type": "stream",
     "text": [
      "Accuracy:  1.0\n",
      "              precision    recall  f1-score   support\n",
      "\n",
      "           1       1.00      1.00      1.00       521\n",
      "\n",
      "    accuracy                           1.00       521\n",
      "   macro avg       1.00      1.00      1.00       521\n",
      "weighted avg       1.00      1.00      1.00       521\n",
      "\n"
     ]
    }
   ],
   "source": [
    "# accuracy report\n",
    "y_pred = dt_classifier.predict(X_test)\n",
    "print(\"Accuracy: \", accuracy_score(y_test, y_pred))\n",
    "print(classification_report(y_test, y_pred))"
   ]
  },
  {
   "cell_type": "code",
   "execution_count": 30,
   "metadata": {},
   "outputs": [],
   "source": [
    "import pickle\n",
    "\n",
    "with open(\"model.pkl\", \"wb\") as f:\n",
    "    pickle.dump(dt_classifier, f)"
   ]
  }
 ],
 "metadata": {
  "kernelspec": {
   "display_name": "Python 3",
   "language": "python",
   "name": "python3"
  },
  "language_info": {
   "codemirror_mode": {
    "name": "ipython",
    "version": 3
   },
   "file_extension": ".py",
   "mimetype": "text/x-python",
   "name": "python",
   "nbconvert_exporter": "python",
   "pygments_lexer": "ipython3",
   "version": "3.10.13"
  }
 },
 "nbformat": 4,
 "nbformat_minor": 2
}
